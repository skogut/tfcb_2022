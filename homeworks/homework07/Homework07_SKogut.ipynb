{
 "cells": [
  {
   "cell_type": "markdown",
   "id": "a3aee033-5aeb-43a8-bb8b-cfb69fc7a690",
   "metadata": {},
   "source": [
    "***Total: 42 points***\n",
    "\n",
    "Complete this homework by writing R code to complete the following tasks. Keep in mind:\n",
    "\n",
    "i. Empty chunks have been included where code is required\n",
    "ii. For Problem 2e, you should include a image (screen shot), which can be loaded into R\n",
    "iii. This homework requires use of data files:\n",
    "\n",
    "  - `BRCA.genome_wide_snp_6_broad_Level_3_scna.seg` (Problems 1, 2)\n",
    "  - `GIAB_highconf_v.3.3.2.vcf.gz` (Problem 3)\n",
    "  \n",
    "iv. You will be graded on your code and output results (knitted .html file). The assignment is worth 42 points total; partial credit can be awarded.\n",
    "\n",
    "This assignment is due on **Dec 1, 2022**. \n",
    "\n",
    "For additional resources, please refer to these links:  \n",
    "Problems 1 & 2:  \n",
    "  - https://www.bioconductor.org/packages/devel/bioc/vignettes/plyranges/inst/doc/an-introduction.html\n",
    "  - https://bioconductor.org/packages/release/bioc/vignettes/GenomicRanges/inst/doc/GenomicRangesIntroduction.html  \n",
    "Problem 3:  \n",
    "  - https://bioconductor.org/packages/release/bioc/vignettes/Rsamtools/inst/doc/Rsamtools-Overview.pdf  \n",
    "Problem 4: \n",
    "  - https://bioconductor.org/packages/release/bioc/vignettes/VariantAnnotation/inst/doc/VariantAnnotation.pdf  \n",
    "\n",
    "# Problem 1: Overlaps between genomic regions and copy number alterations. (14 points total)\n",
    "\n",
    "### Preparation\n",
    "Load copy number segment results as shown in *2.1 BED format* of *Lecture16_GenomicData.Rmd*. You will use the same file as in the lecture notes, `BRCA.genome_wide_snp_6_broad_Level_3_scna.seg`. Here is code to get you started."
   ]
  },
  {
   "cell_type": "code",
   "execution_count": 1,
   "id": "0860111c-c185-4db0-a325-74242df5cb77",
   "metadata": {
    "vscode": {
     "languageId": "r"
    }
   },
   "outputs": [],
   "source": [
    "#load packages\n",
    "suppressPackageStartupMessages({\n",
    "    library(tidyverse)\n",
    "    library(GenomicRanges)\n",
    "    library(plyranges)\n",
    "    library(VariantAnnotation)\n",
    "})"
   ]
  },
  {
   "cell_type": "code",
   "execution_count": 2,
   "id": "a3e97c4b-9f8b-48df-9a68-5b10683d46dc",
   "metadata": {
    "vscode": {
     "languageId": "r"
    }
   },
   "outputs": [
    {
     "data": {
      "text/html": [
       "'/workspaces/tfcb_2022/homeworks/homework07'"
      ],
      "text/latex": [
       "'/workspaces/tfcb\\_2022/homeworks/homework07'"
      ],
      "text/markdown": [
       "'/workspaces/tfcb_2022/homeworks/homework07'"
      ],
      "text/plain": [
       "[1] \"/workspaces/tfcb_2022/homeworks/homework07\""
      ]
     },
     "metadata": {},
     "output_type": "display_data"
    },
    {
     "data": {
      "text/html": [
       "'/workspaces/tfcb_2022/lectures/lecture14/TFCB_data'"
      ],
      "text/latex": [
       "'/workspaces/tfcb\\_2022/lectures/lecture14/TFCB\\_data'"
      ],
      "text/markdown": [
       "'/workspaces/tfcb_2022/lectures/lecture14/TFCB_data'"
      ],
      "text/plain": [
       "[1] \"/workspaces/tfcb_2022/lectures/lecture14/TFCB_data\""
      ]
     },
     "metadata": {},
     "output_type": "display_data"
    }
   ],
   "source": [
    "#old wdir\n",
    "getwd()\n",
    "\n",
    "#new wdir\n",
    "data_dir = '/workspaces/tfcb_2022/lectures/lecture14/TFCB_data'\n",
    "setwd(data_dir)\n",
    "getwd()"
   ]
  },
  {
   "cell_type": "code",
   "execution_count": 3,
   "id": "c4fa1bf8-0ef1-4511-9519-9126499c2327",
   "metadata": {
    "vscode": {
     "languageId": "r"
    }
   },
   "outputs": [
    {
     "data": {
      "text/html": [
       "<style>\n",
       ".list-inline {list-style: none; margin:0; padding: 0}\n",
       ".list-inline>li {display: inline-block}\n",
       ".list-inline>li:not(:last-child)::after {content: \"\\00b7\"; padding: 0 .5ex}\n",
       "</style>\n",
       "<ol class=list-inline><li>'BRCA_IDC_cfDNA.bam'</li><li>'BRCA_IDC_cfDNA.bam.bai'</li><li>'BRCA.genome_wide_snp_6_broad_Level_3_scna.seg'</li><li>'GIAB_highconf_v.3.3.2.vcf.gz'</li><li>'GIAB_highconf_v.3.3.2.vcf.gz.tbi'</li><li>'hs37d5.fa'</li><li>'hs37d5.fa.gz.fai'</li><li>'screen_shot.png'</li></ol>\n"
      ],
      "text/latex": [
       "\\begin{enumerate*}\n",
       "\\item 'BRCA\\_IDC\\_cfDNA.bam'\n",
       "\\item 'BRCA\\_IDC\\_cfDNA.bam.bai'\n",
       "\\item 'BRCA.genome\\_wide\\_snp\\_6\\_broad\\_Level\\_3\\_scna.seg'\n",
       "\\item 'GIAB\\_highconf\\_v.3.3.2.vcf.gz'\n",
       "\\item 'GIAB\\_highconf\\_v.3.3.2.vcf.gz.tbi'\n",
       "\\item 'hs37d5.fa'\n",
       "\\item 'hs37d5.fa.gz.fai'\n",
       "\\item 'screen\\_shot.png'\n",
       "\\end{enumerate*}\n"
      ],
      "text/markdown": [
       "1. 'BRCA_IDC_cfDNA.bam'\n",
       "2. 'BRCA_IDC_cfDNA.bam.bai'\n",
       "3. 'BRCA.genome_wide_snp_6_broad_Level_3_scna.seg'\n",
       "4. 'GIAB_highconf_v.3.3.2.vcf.gz'\n",
       "5. 'GIAB_highconf_v.3.3.2.vcf.gz.tbi'\n",
       "6. 'hs37d5.fa'\n",
       "7. 'hs37d5.fa.gz.fai'\n",
       "8. 'screen_shot.png'\n",
       "\n",
       "\n"
      ],
      "text/plain": [
       "[1] \"BRCA_IDC_cfDNA.bam\"                           \n",
       "[2] \"BRCA_IDC_cfDNA.bam.bai\"                       \n",
       "[3] \"BRCA.genome_wide_snp_6_broad_Level_3_scna.seg\"\n",
       "[4] \"GIAB_highconf_v.3.3.2.vcf.gz\"                 \n",
       "[5] \"GIAB_highconf_v.3.3.2.vcf.gz.tbi\"             \n",
       "[6] \"hs37d5.fa\"                                    \n",
       "[7] \"hs37d5.fa.gz.fai\"                             \n",
       "[8] \"screen_shot.png\"                              "
      ]
     },
     "metadata": {},
     "output_type": "display_data"
    }
   ],
   "source": [
    "list.files()"
   ]
  },
  {
   "cell_type": "code",
   "execution_count": 4,
   "id": "c16b4e1f-d699-4706-b86f-381e0424ceb8",
   "metadata": {
    "vscode": {
     "languageId": "r"
    }
   },
   "outputs": [],
   "source": [
    "segs <- read.delim(\"BRCA.genome_wide_snp_6_broad_Level_3_scna.seg\", as.is = TRUE)\n",
    "mode(segs$Chromosome) <- \"character\" \n",
    "segs[segs$Chromosome == 23, \"Chromosome\"] <- \"X\"\n",
    "segs.gr <- as(segs, \"GRanges\")"
   ]
  },
  {
   "cell_type": "markdown",
   "id": "fb312886-34f9-4e60-98e1-cb947991cb01",
   "metadata": {},
   "source": [
    "### a. Find the segments in `segs.gr` that have *any* overlap with the region `chr8:128,746,347-128,755,810` (4 points)\n",
    "Print out the first five unique TCGA IDs."
   ]
  },
  {
   "cell_type": "code",
   "execution_count": 6,
   "id": "994e3f59-c2fd-4d08-9935-8236fd6242f9",
   "metadata": {
    "vscode": {
     "languageId": "r"
    }
   },
   "outputs": [
    {
     "name": "stderr",
     "output_type": "stream",
     "text": [
      "Warning message in (function (seqlevels, genome, new_style) :\n",
      "“cannot switch some of hg19's seqlevels from UCSC to NCBI style”\n"
     ]
    },
    {
     "data": {
      "text/html": [
       "<style>\n",
       ".list-inline {list-style: none; margin:0; padding: 0}\n",
       ".list-inline>li {display: inline-block}\n",
       ".list-inline>li:not(:last-child)::after {content: \"\\00b7\"; padding: 0 .5ex}\n",
       "</style>\n",
       "<ol class=list-inline><li>'TCGA-3C-AAAU-10A-01D-A41E-01'</li><li>'TCGA-3C-AAAU-01A-11D-A41E-01'</li><li>'TCGA-3C-AALI-10A-01D-A41E-01'</li><li>'TCGA-3C-AALI-01A-11D-A41E-01'</li><li>'TCGA-3C-AALJ-10A-01D-A41E-01'</li></ol>\n"
      ],
      "text/latex": [
       "\\begin{enumerate*}\n",
       "\\item 'TCGA-3C-AAAU-10A-01D-A41E-01'\n",
       "\\item 'TCGA-3C-AAAU-01A-11D-A41E-01'\n",
       "\\item 'TCGA-3C-AALI-10A-01D-A41E-01'\n",
       "\\item 'TCGA-3C-AALI-01A-11D-A41E-01'\n",
       "\\item 'TCGA-3C-AALJ-10A-01D-A41E-01'\n",
       "\\end{enumerate*}\n"
      ],
      "text/markdown": [
       "1. 'TCGA-3C-AAAU-10A-01D-A41E-01'\n",
       "2. 'TCGA-3C-AAAU-01A-11D-A41E-01'\n",
       "3. 'TCGA-3C-AALI-10A-01D-A41E-01'\n",
       "4. 'TCGA-3C-AALI-01A-11D-A41E-01'\n",
       "5. 'TCGA-3C-AALJ-10A-01D-A41E-01'\n",
       "\n",
       "\n"
      ],
      "text/plain": [
       "[1] \"TCGA-3C-AAAU-10A-01D-A41E-01\" \"TCGA-3C-AAAU-01A-11D-A41E-01\"\n",
       "[3] \"TCGA-3C-AALI-10A-01D-A41E-01\" \"TCGA-3C-AALI-01A-11D-A41E-01\"\n",
       "[5] \"TCGA-3C-AALJ-10A-01D-A41E-01\""
      ]
     },
     "metadata": {},
     "output_type": "display_data"
    }
   ],
   "source": [
    "seqinfo <- Seqinfo(genome = \"hg19\")\n",
    "seqinfo <- keepStandardChromosomes(seqinfo) \n",
    "seqlevelsStyle(seqinfo) <- \"NCBI\"\n",
    "\n",
    "slen <- seqlengths(seqinfo) # get the length of the chromosomes\n",
    "tileWidth <- 500 # tile size \n",
    "tiles <- tileGenome(seqlengths = slen, tilewidth = tileWidth,\n",
    "                    cut.last.tile.in.chrom = TRUE)\n",
    "\n",
    "tiles.subset <- tiles[seqnames(tiles) == \"8\" & start(tiles) >= 128746347 & end(tiles) <= 128755810]\n",
    "\n",
    "segs.overlap <- find_overlaps(segs.gr, tiles.subset)  \n",
    "\n",
    "unique(segs.overlap$Sample)[1:5]\n"
   ]
  },
  {
   "cell_type": "markdown",
   "id": "718c0180-55cb-411c-af90-9b091e51d091",
   "metadata": {},
   "source": [
    "### b. Find the mean of the `Segment_Mean` values for copy number segments that have *any* overlap with the region chr17:37,842,337-37,886,915. (4 points)"
   ]
  },
  {
   "cell_type": "code",
   "execution_count": 8,
   "id": "3962ce70-3f45-4d6c-ad68-4f3cd5bf65a9",
   "metadata": {
    "vscode": {
     "languageId": "r"
    }
   },
   "outputs": [
    {
     "data": {
      "text/html": [
       "0.108554477542496"
      ],
      "text/latex": [
       "0.108554477542496"
      ],
      "text/markdown": [
       "0.108554477542496"
      ],
      "text/plain": [
       "[1] 0.1085545"
      ]
     },
     "metadata": {},
     "output_type": "display_data"
    }
   ],
   "source": [
    "tiles.subset2 <- tiles[seqnames(tiles) == \"17\" & start(tiles) >= 37842337 & end(tiles) <= 37886915]\n",
    "\n",
    "segs.overlap2 <- find_overlaps(segs.gr, tiles.subset2)  \n",
    "\n",
    "mean(segs.overlap2$Segment_Mean)"
   ]
  },
  {
   "cell_type": "markdown",
   "id": "6801dbdd-5e78-478d-a522-edebb9cf102b",
   "metadata": {},
   "source": [
    "### c. Find the patient sample distribution of copy number for `PIK3CA` (hg19). (6 points)\n",
    "Find the counts of samples with deletion (D; `Segment_Mean < -0.3`), neutral (N; `Segment_Mean >= -0.3 & Segment_Mean <= 0.3`), gain (G; `Segment_Mean > 0.3`) segments that have `any` overlap with `PIK3CA` gene coordinates.  \n"
   ]
  },
  {
   "cell_type": "code",
   "execution_count": 15,
   "id": "acf1096b-3275-4a8b-b522-71f0d5f31ab3",
   "metadata": {
    "vscode": {
     "languageId": "r"
    }
   },
   "outputs": [
    {
     "data": {
      "text/html": [
       "'17 samples with deletions'"
      ],
      "text/latex": [
       "'17 samples with deletions'"
      ],
      "text/markdown": [
       "'17 samples with deletions'"
      ],
      "text/plain": [
       "[1] \"17 samples with deletions\""
      ]
     },
     "metadata": {},
     "output_type": "display_data"
    },
    {
     "data": {
      "text/html": [
       "'2024 samples with neutral segments'"
      ],
      "text/latex": [
       "'2024 samples with neutral segments'"
      ],
      "text/markdown": [
       "'2024 samples with neutral segments'"
      ],
      "text/plain": [
       "[1] \"2024 samples with neutral segments\""
      ]
     },
     "metadata": {},
     "output_type": "display_data"
    },
    {
     "data": {
      "text/html": [
       "'166 samples with gains'"
      ],
      "text/latex": [
       "'166 samples with gains'"
      ],
      "text/markdown": [
       "'166 samples with gains'"
      ],
      "text/plain": [
       "[1] \"166 samples with gains\""
      ]
     },
     "metadata": {},
     "output_type": "display_data"
    }
   ],
   "source": [
    "#PIK3CA coords: chr3:178,866,311-178,952,497\n",
    "tiles.subset3 <- tiles[seqnames(tiles) == \"3\" & start(tiles) >= 178866311 & end(tiles) <= 178952497]\n",
    "\n",
    "segs.overlap3 <- find_overlaps(segs.gr, tiles.subset3)  \n",
    "\n",
    "deletion<- segs.overlap3 %>% filter(Segment_Mean < -0.3) %>% group_by(Sample) %>% summarize(counts = n())\n",
    "paste(nrow(deletion), \"samples with deletions\")\n",
    "\n",
    "neutral<- segs.overlap3 %>% filter(Segment_Mean >= -0.3 & Segment_Mean <= 0.3 ) %>% group_by(Sample) %>% summarize(counts = n())\n",
    "paste(nrow(neutral), \"samples with neutral segments\")\n",
    "\n",
    "gain<- segs.overlap3 %>% filter(Segment_Mean > 0.3 ) %>% group_by(Sample) %>% summarize(counts = n())\n",
    "paste(nrow(gain), \"samples with gains\")\n"
   ]
  },
  {
   "cell_type": "markdown",
   "id": "9b119c29-e953-412e-8585-5a67568e02e3",
   "metadata": {},
   "source": [
    "# Problem 2: Frequency of copy number alteration events within genomic regions. (12 points total) \n",
    "\n",
    "This problem will continue to use the copy number data stored in `segs.gr`.\n",
    "\n",
    "### a. Create a genome-wide tile of 1Mb windows for the human genome (`hg19`). (4 points)\n",
    "See *3.1 Tiling the genome* of *Lecture16_GenomicData.Rmd* for hints.\n"
   ]
  },
  {
   "cell_type": "code",
   "execution_count": 16,
   "id": "11d9150e-c199-4cf9-8e2f-399f57e06cc8",
   "metadata": {
    "vscode": {
     "languageId": "r"
    }
   },
   "outputs": [
    {
     "data": {
      "text/plain": [
       "GRanges object with 3114 ranges and 0 metadata columns:\n",
       "         seqnames            ranges strand\n",
       "            <Rle>         <IRanges>  <Rle>\n",
       "     [1]        1         1-1000000      *\n",
       "     [2]        1   1000001-2000000      *\n",
       "     [3]        1   2000001-3000000      *\n",
       "     [4]        1   3000001-4000000      *\n",
       "     [5]        1   4000001-5000000      *\n",
       "     ...      ...               ...    ...\n",
       "  [3110]        Y 56000001-57000000      *\n",
       "  [3111]        Y 57000001-58000000      *\n",
       "  [3112]        Y 58000001-59000000      *\n",
       "  [3113]        Y 59000001-59373566      *\n",
       "  [3114]     chrM           1-16571      *\n",
       "  -------\n",
       "  seqinfo: 25 sequences from an unspecified genome"
      ]
     },
     "metadata": {},
     "output_type": "display_data"
    }
   ],
   "source": [
    "slen <- seqlengths(seqinfo) # get the length of the chromosomes\n",
    "tileWidth <- 1000000 # tile size \n",
    "tiles <- tileGenome(seqlengths = slen, tilewidth = tileWidth,\n",
    "                    cut.last.tile.in.chrom = TRUE)\n",
    "tiles"
   ]
  },
  {
   "cell_type": "markdown",
   "id": "3601482e-48d6-41dc-9ba9-475f93ef5248",
   "metadata": {},
   "source": [
    "### b. Find the 1Mb window with the most frequent overlapping deletions. (4 points)\n",
    "Find the 1Mb windows with `any` overlap with deletion copy number segments. Assume a deletion segment is defined as a segment in `segs.gr` having `Segment_Mean < -0.3`. \n",
    "\n",
    "Return one of the 1Mb window `Granges` entry with the highest frequency (count) of deletion segments.\n",
    "\n",
    "Hint: Subset the `segs.gr` to only rows with `Segment_Mean < -0.3`. "
   ]
  },
  {
   "cell_type": "code",
   "execution_count": 17,
   "id": "2351cb0d",
   "metadata": {
    "vscode": {
     "languageId": "r"
    }
   },
   "outputs": [
    {
     "data": {
      "text/plain": [
       "GRanges object with 1 range and 0 metadata columns:\n",
       "      seqnames            ranges strand\n",
       "         <Rle>         <IRanges>  <Rle>\n",
       "  [1]       16 79000001-80000000      *\n",
       "  -------\n",
       "  seqinfo: 25 sequences from an unspecified genome"
      ]
     },
     "metadata": {},
     "output_type": "display_data"
    }
   ],
   "source": [
    "segs.gr_del<- segs.gr %>% filter(Segment_Mean < -0.3) \n",
    "overlap<- countOverlaps(tiles, segs.gr_del)\n",
    "tiles[which.max(overlap)]"
   ]
  },
  {
   "cell_type": "markdown",
   "id": "3ba5f12f-347b-4b24-9367-f32547c7e66b",
   "metadata": {},
   "source": [
    "### c. Visually inspect the deletion overlap result from part (b) using IGV. (4 points)\n",
    "Provide a screen shot of IGV at the 1Mb window with the most frequent overlap with deletion segments. The image should include the segments from `BRCA.genome_wide_snp_6_broad_Level_3_scna.seg` loaded. "
   ]
  },
  {
   "cell_type": "code",
   "execution_count": 18,
   "id": "732dacc4-b6a1-46e3-9145-0775d01270da",
   "metadata": {
    "vscode": {
     "languageId": "r"
    }
   },
   "outputs": [
    {
     "data": {
      "image/png": "[encoded data removed]",
      "text/plain": [
       "plot without title"
      ]
     },
     "metadata": {
      "image/png": {
       "height": 420,
       "width": 420
      }
     },
     "output_type": "display_data"
    }
   ],
   "source": [
    "#save screenshot and load into R with png package (see: https://stackoverflow.com/questions/23861000/displaying-images-in-r-in-version-3-1-0)\n",
    "#install.packages('png') #install if necessary \n",
    "library(png)\n",
    "pp <- readPNG(\"screen_shot.png\")\n",
    "plot.new() \n",
    "rasterImage(pp,0,0,1,1)"
   ]
  },
  {
   "cell_type": "markdown",
   "id": "4021471d-985d-4799-879f-430f2449003c",
   "metadata": {
    "tags": []
   },
   "source": [
    "# Problem 3: Reading and annotating genomic variants (16 points total)\n",
    "\n",
    "### Preparation"
   ]
  },
  {
   "cell_type": "code",
   "execution_count": 19,
   "id": "8c7719ca-d70f-4deb-9e1b-afc16586501f",
   "metadata": {
    "vscode": {
     "languageId": "r"
    }
   },
   "outputs": [],
   "source": [
    "vcfFile <- \"GIAB_highconf_v.3.3.2.vcf.gz\""
   ]
  },
  {
   "cell_type": "markdown",
   "id": "eb4f7577-631d-42be-8413-3752869511a1",
   "metadata": {},
   "source": [
    "### a. Load variant data from VCF file `GIAB_highconf_v.3.3.2.vcf.gz` for `chr8:128,700,000-129,000,000`. (4 points)\n",
    "Note: use genome build `hg19`."
   ]
  },
  {
   "cell_type": "code",
   "execution_count": 20,
   "id": "d57ee51f-26a9-4ec0-9766-92ae74dbf36e",
   "metadata": {
    "vscode": {
     "languageId": "r"
    }
   },
   "outputs": [],
   "source": [
    "vcfHead <- scanVcfHeader(vcfFile)\n",
    "myGRange4 <- GRanges(seqnames = \"8\", ranges = IRanges(start = 128700000, end = 129000000))\n",
    "vcf.param <- ScanVcfParam(which = myGRange4) \n",
    "vcf <- readVcf(vcfFile, genome = \"hg19\", param = vcf.param)"
   ]
  },
  {
   "cell_type": "markdown",
   "id": "cf96e3ff-0558-40b2-8d3e-8abd8508a766",
   "metadata": {},
   "source": [
    "### b. Combine the fields of the VCF genotype information into a table. (4 points)\n",
    "You may use your choice of data objects (e.g. `data.frame`)."
   ]
  },
  {
   "cell_type": "code",
   "execution_count": 21,
   "id": "8a2902dd-a1c4-4fc6-a541-47b2b133af00",
   "metadata": {
    "vscode": {
     "languageId": "r"
    }
   },
   "outputs": [
    {
     "data": {
      "text/html": [
       "<table class=\"dataframe\">\n",
       "<caption>A data.frame: 10 × 8</caption>\n",
       "<thead>\n",
       "\t<tr><th></th><th scope=col>GT</th><th scope=col>DP</th><th scope=col>GQ</th><th scope=col>ADALL</th><th scope=col>AD</th><th scope=col>IGT</th><th scope=col>IPS</th><th scope=col>PS</th></tr>\n",
       "\t<tr><th></th><th scope=col>&lt;named list&gt;</th><th scope=col>&lt;named list&gt;</th><th scope=col>&lt;named list&gt;</th><th scope=col>&lt;named list&gt;</th><th scope=col>&lt;named list&gt;</th><th scope=col>&lt;named list&gt;</th><th scope=col>&lt;named list&gt;</th><th scope=col>&lt;named list&gt;</th></tr>\n",
       "</thead>\n",
       "<tbody>\n",
       "\t<tr><th scope=row>rs6984323</th><td>1|1</td><td>765</td><td>583</td><td>1, 332</td><td>0, 315</td><td>1/1</td><td>.</td><td>PATMAT</td></tr>\n",
       "\t<tr><th scope=row>rs4478537</th><td>0|1</td><td>544</td><td>813</td><td>103, 124</td><td>135, 172</td><td>0/1</td><td>.</td><td>PATMAT</td></tr>\n",
       "\t<tr><th scope=row>rs34141920</th><td>0|1</td><td>523</td><td>222</td><td>132, 121</td><td>132, 121</td><td>0/1</td><td>.</td><td>PATMAT</td></tr>\n",
       "\t<tr><th scope=row>rs17772814</th><td>1|0</td><td>695</td><td>1503</td><td>143, 158</td><td>196, 199</td><td>0/1</td><td>.</td><td>PATMAT</td></tr>\n",
       "\t<tr><th scope=row>rs77977256</th><td>1|0</td><td>642</td><td>685</td><td>154, 157</td><td>160, 166</td><td>0/1</td><td>.</td><td>PATMAT</td></tr>\n",
       "\t<tr><th scope=row>8:128715845_AT/A</th><td>0|1</td><td>368</td><td>99</td><td>66, 91</td><td>66, 91</td><td>0/1</td><td>.</td><td>PATMAT</td></tr>\n",
       "\t<tr><th scope=row>rs143209301</th><td>1|0</td><td>581</td><td>595</td><td>128, 128</td><td>151, 165</td><td>0/1</td><td>.</td><td>PATMAT</td></tr>\n",
       "\t<tr><th scope=row>rs202231913</th><td>0|1</td><td>369</td><td>99</td><td>81, 97</td><td>81, 97</td><td>0/1</td><td>.</td><td>PATMAT</td></tr>\n",
       "\t<tr><th scope=row>rs16902340</th><td>0|1</td><td>689</td><td>1294</td><td>144, 150</td><td>184, 204</td><td>0/1</td><td>.</td><td>PATMAT</td></tr>\n",
       "\t<tr><th scope=row>rs7841229</th><td>0|1</td><td>635</td><td>1010</td><td>180, 172</td><td>134, 130</td><td>0/1</td><td>.</td><td>PATMAT</td></tr>\n",
       "</tbody>\n",
       "</table>\n"
      ],
      "text/latex": [
       "A data.frame: 10 × 8\n",
       "\\begin{tabular}{r|llllllll}\n",
       "  & GT & DP & GQ & ADALL & AD & IGT & IPS & PS\\\\\n",
       "  & <named list> & <named list> & <named list> & <named list> & <named list> & <named list> & <named list> & <named list>\\\\\n",
       "\\hline\n",
       "\trs6984323 & 1\\textbar{}1 & 765 & 583 & 1, 332 & 0, 315 & 1/1 & . & PATMAT\\\\\n",
       "\trs4478537 & 0\\textbar{}1 & 544 & 813 & 103, 124 & 135, 172 & 0/1 & . & PATMAT\\\\\n",
       "\trs34141920 & 0\\textbar{}1 & 523 & 222 & 132, 121 & 132, 121 & 0/1 & . & PATMAT\\\\\n",
       "\trs17772814 & 1\\textbar{}0 & 695 & 1503 & 143, 158 & 196, 199 & 0/1 & . & PATMAT\\\\\n",
       "\trs77977256 & 1\\textbar{}0 & 642 & 685 & 154, 157 & 160, 166 & 0/1 & . & PATMAT\\\\\n",
       "\t8:128715845\\_AT/A & 0\\textbar{}1 & 368 & 99 & 66, 91 & 66, 91 & 0/1 & . & PATMAT\\\\\n",
       "\trs143209301 & 1\\textbar{}0 & 581 & 595 & 128, 128 & 151, 165 & 0/1 & . & PATMAT\\\\\n",
       "\trs202231913 & 0\\textbar{}1 & 369 & 99 & 81, 97 & 81, 97 & 0/1 & . & PATMAT\\\\\n",
       "\trs16902340 & 0\\textbar{}1 & 689 & 1294 & 144, 150 & 184, 204 & 0/1 & . & PATMAT\\\\\n",
       "\trs7841229 & 0\\textbar{}1 & 635 & 1010 & 180, 172 & 134, 130 & 0/1 & . & PATMAT\\\\\n",
       "\\end{tabular}\n"
      ],
      "text/markdown": [
       "\n",
       "A data.frame: 10 × 8\n",
       "\n",
       "| <!--/--> | GT &lt;named list&gt; | DP &lt;named list&gt; | GQ &lt;named list&gt; | ADALL &lt;named list&gt; | AD &lt;named list&gt; | IGT &lt;named list&gt; | IPS &lt;named list&gt; | PS &lt;named list&gt; |\n",
       "|---|---|---|---|---|---|---|---|---|\n",
       "| rs6984323 | 1|1 | 765 | 583 | 1, 332 | 0, 315 | 1/1 | . | PATMAT |\n",
       "| rs4478537 | 0|1 | 544 | 813 | 103, 124 | 135, 172 | 0/1 | . | PATMAT |\n",
       "| rs34141920 | 0|1 | 523 | 222 | 132, 121 | 132, 121 | 0/1 | . | PATMAT |\n",
       "| rs17772814 | 1|0 | 695 | 1503 | 143, 158 | 196, 199 | 0/1 | . | PATMAT |\n",
       "| rs77977256 | 1|0 | 642 | 685 | 154, 157 | 160, 166 | 0/1 | . | PATMAT |\n",
       "| 8:128715845_AT/A | 0|1 | 368 | 99 | 66, 91 | 66, 91 | 0/1 | . | PATMAT |\n",
       "| rs143209301 | 1|0 | 581 | 595 | 128, 128 | 151, 165 | 0/1 | . | PATMAT |\n",
       "| rs202231913 | 0|1 | 369 | 99 | 81, 97 | 81, 97 | 0/1 | . | PATMAT |\n",
       "| rs16902340 | 0|1 | 689 | 1294 | 144, 150 | 184, 204 | 0/1 | . | PATMAT |\n",
       "| rs7841229 | 0|1 | 635 | 1010 | 180, 172 | 134, 130 | 0/1 | . | PATMAT |\n",
       "\n"
      ],
      "text/plain": [
       "                 GT  DP  GQ   ADALL    AD       IGT IPS PS    \n",
       "rs6984323        1|1 765 583  1, 332   0, 315   1/1 .   PATMAT\n",
       "rs4478537        0|1 544 813  103, 124 135, 172 0/1 .   PATMAT\n",
       "rs34141920       0|1 523 222  132, 121 132, 121 0/1 .   PATMAT\n",
       "rs17772814       1|0 695 1503 143, 158 196, 199 0/1 .   PATMAT\n",
       "rs77977256       1|0 642 685  154, 157 160, 166 0/1 .   PATMAT\n",
       "8:128715845_AT/A 0|1 368 99   66, 91   66, 91   0/1 .   PATMAT\n",
       "rs143209301      1|0 581 595  128, 128 151, 165 0/1 .   PATMAT\n",
       "rs202231913      0|1 369 99   81, 97   81, 97   0/1 .   PATMAT\n",
       "rs16902340       0|1 689 1294 144, 150 184, 204 0/1 .   PATMAT\n",
       "rs7841229        0|1 635 1010 180, 172 134, 130 0/1 .   PATMAT"
      ]
     },
     "metadata": {},
     "output_type": "display_data"
    }
   ],
   "source": [
    "genoData <- data.frame(do.call(cbind, geno(vcf)))\n",
    "colnames(genoData) <- rownames(geno(header(vcf)))\n",
    "genoData[1:10,]"
   ]
  },
  {
   "cell_type": "markdown",
   "id": "866dc73a-e254-4605-9d8c-750fdafba481",
   "metadata": {},
   "source": [
    "### c. Retrieve the following information at chr8:128747953. (8 points)\n",
    "Print out the SNP ID (i.e. \"rs ID\"), reference base (`REF`), alterate base (`ALT`), genotype (`GT`), depth (`DP`), allele depth (`ADALL`), phase set (`PS`).\n",
    "\n",
    "Hints: \n",
    "\n",
    "  i. `REF` and `ALT` are in the output of `rowRanges(vcf)`. See Section `3a` in `Lecture16_VariantCalls.ipynb` \n",
    "  ii. To get the sequence of `DNAString`, use `as.character(x)`.  \n",
    "  ii. To get the sequence of `DNAStringSet`, use `as.character(unlist(x))`. \n",
    "  iii. To expand a list of information for `geno`, use `unlist(x)`.  \n",
    "\n",
    "  "
   ]
  },
  {
   "cell_type": "code",
   "execution_count": 27,
   "id": "fa8d8ad6-7d4b-43f2-a3ae-25a86be3d243",
   "metadata": {
    "vscode": {
     "languageId": "r"
    }
   },
   "outputs": [
    {
     "data": {
      "text/html": [
       "'rs3824120'"
      ],
      "text/latex": [
       "'rs3824120'"
      ],
      "text/markdown": [
       "'rs3824120'"
      ],
      "text/plain": [
       "[1] \"rs3824120\""
      ]
     },
     "metadata": {},
     "output_type": "display_data"
    },
    {
     "data": {
      "text/html": [
       "'G'"
      ],
      "text/latex": [
       "'G'"
      ],
      "text/markdown": [
       "'G'"
      ],
      "text/plain": [
       "[1] \"G\""
      ]
     },
     "metadata": {},
     "output_type": "display_data"
    },
    {
     "data": {
      "text/html": [
       "'T'"
      ],
      "text/latex": [
       "'T'"
      ],
      "text/markdown": [
       "'T'"
      ],
      "text/plain": [
       "[1] \"T\""
      ]
     },
     "metadata": {},
     "output_type": "display_data"
    },
    {
     "data": {
      "text/html": [
       "<table class=\"dataframe\">\n",
       "<caption>A matrix: 8 × 1</caption>\n",
       "<thead>\n",
       "\t<tr><th></th><th scope=col>HG001</th></tr>\n",
       "\t<tr><th></th><th scope=col>&lt;chr&gt;</th><th scope=col>&lt;int&gt;</th><th scope=col>&lt;int&gt;</th><th scope=col>&lt;int&gt;</th><th scope=col>&lt;int&gt;</th><th scope=col>&lt;chr&gt;</th><th scope=col>&lt;chr&gt;</th><th scope=col>&lt;chr&gt;</th></tr>\n",
       "</thead>\n",
       "<tbody>\n",
       "\t<tr><th scope=row>GT.rs3824120</th><td>0|1</td></tr>\n",
       "\t<tr><th scope=row>DP.rs3824120</th><td>461</td></tr>\n",
       "\t<tr><th scope=row>GQ.rs3824120</th><td>668</td></tr>\n",
       "\t<tr><th scope=row>ADALL.rs3824120</th><td>105, 94</td></tr>\n",
       "\t<tr><th scope=row>AD.rs3824120</th><td>128, 121</td></tr>\n",
       "\t<tr><th scope=row>IGT.rs3824120</th><td>0/1</td></tr>\n",
       "\t<tr><th scope=row>IPS.rs3824120</th><td>.</td></tr>\n",
       "\t<tr><th scope=row>PS.rs3824120</th><td>PATMAT</td></tr>\n",
       "</tbody>\n",
       "</table>\n"
      ],
      "text/latex": [
       "A matrix: 8 × 1\n",
       "\\begin{tabular}{r|l}\n",
       "  & HG001\\\\\n",
       "  & <chr> & <int> & <int> & <int> & <int> & <chr> & <chr> & <chr>\\\\\n",
       "\\hline\n",
       "\tGT.rs3824120 & 0\\textbar{}1\\\\\n",
       "\tDP.rs3824120 & 461\\\\\n",
       "\tGQ.rs3824120 & 668\\\\\n",
       "\tADALL.rs3824120 & 105, 94\\\\\n",
       "\tAD.rs3824120 & 128, 121\\\\\n",
       "\tIGT.rs3824120 & 0/1\\\\\n",
       "\tIPS.rs3824120 & .\\\\\n",
       "\tPS.rs3824120 & PATMAT\\\\\n",
       "\\end{tabular}\n"
      ],
      "text/markdown": [
       "\n",
       "A matrix: 8 × 1\n",
       "\n",
       "| <!--/--> | HG001 &lt;chr&gt; | HG001 &lt;int&gt; | HG001 &lt;int&gt; | HG001 &lt;int&gt; | HG001 &lt;int&gt; | HG001 &lt;chr&gt; | HG001 &lt;chr&gt; | HG001 &lt;chr&gt; |\n",
       "|---|---|\n",
       "| GT.rs3824120 | 0|1 |\n",
       "| DP.rs3824120 | 461 |\n",
       "| GQ.rs3824120 | 668 |\n",
       "| ADALL.rs3824120 | 105, 94 |\n",
       "| AD.rs3824120 | 128, 121 |\n",
       "| IGT.rs3824120 | 0/1 |\n",
       "| IPS.rs3824120 | . |\n",
       "| PS.rs3824120 | PATMAT |\n",
       "\n"
      ],
      "text/plain": [
       "                HG001   \n",
       "GT.rs3824120    0|1     \n",
       "DP.rs3824120    461     \n",
       "GQ.rs3824120    668     \n",
       "ADALL.rs3824120 105, 94 \n",
       "AD.rs3824120    128, 121\n",
       "IGT.rs3824120   0/1     \n",
       "IPS.rs3824120   .       \n",
       "PS.rs3824120    PATMAT  "
      ]
     },
     "metadata": {},
     "output_type": "display_data"
    },
    {
     "data": {
      "text/html": [
       "'0|1'"
      ],
      "text/latex": [
       "'0\\textbar{}1'"
      ],
      "text/markdown": [
       "'0|1'"
      ],
      "text/plain": [
       "[1] \"0|1\""
      ]
     },
     "metadata": {},
     "output_type": "display_data"
    },
    {
     "data": {
      "text/html": [
       "461"
      ],
      "text/latex": [
       "461"
      ],
      "text/markdown": [
       "461"
      ],
      "text/plain": [
       "[1] 461"
      ]
     },
     "metadata": {},
     "output_type": "display_data"
    },
    {
     "data": {
      "text/html": [
       "<ol>\n",
       "\t<li><style>\n",
       ".list-inline {list-style: none; margin:0; padding: 0}\n",
       ".list-inline>li {display: inline-block}\n",
       ".list-inline>li:not(:last-child)::after {content: \"\\00b7\"; padding: 0 .5ex}\n",
       "</style>\n",
       "<ol class=list-inline><li>105</li><li>94</li></ol>\n",
       "</li>\n",
       "</ol>\n"
      ],
      "text/latex": [
       "\\begin{enumerate}\n",
       "\\item \\begin{enumerate*}\n",
       "\\item 105\n",
       "\\item 94\n",
       "\\end{enumerate*}\n",
       "\n",
       "\\end{enumerate}\n"
      ],
      "text/markdown": [
       "1. 1. 105\n",
       "2. 94\n",
       "\n",
       "\n",
       "\n",
       "\n",
       "\n"
      ],
      "text/plain": [
       "[[1]]\n",
       "[1] 105  94\n"
      ]
     },
     "metadata": {},
     "output_type": "display_data"
    },
    {
     "data": {
      "text/html": [
       "<style>\n",
       ".list-inline {list-style: none; margin:0; padding: 0}\n",
       ".list-inline>li {display: inline-block}\n",
       ".list-inline>li:not(:last-child)::after {content: \"\\00b7\"; padding: 0 .5ex}\n",
       "</style>\n",
       "<ol class=list-inline><li>105</li><li>94</li></ol>\n"
      ],
      "text/latex": [
       "\\begin{enumerate*}\n",
       "\\item 105\n",
       "\\item 94\n",
       "\\end{enumerate*}\n"
      ],
      "text/markdown": [
       "1. 105\n",
       "2. 94\n",
       "\n",
       "\n"
      ],
      "text/plain": [
       "[1] 105  94"
      ]
     },
     "metadata": {},
     "output_type": "display_data"
    },
    {
     "data": {
      "text/html": [
       "'PATMAT'"
      ],
      "text/latex": [
       "'PATMAT'"
      ],
      "text/markdown": [
       "'PATMAT'"
      ],
      "text/plain": [
       "[1] \"PATMAT\""
      ]
     },
     "metadata": {},
     "output_type": "display_data"
    }
   ],
   "source": [
    "myGRange5 <- GRanges(seqnames = \"8\", ranges = IRanges(start = 128747953, end = 128747953))\n",
    "vcf.param <- ScanVcfParam(which = myGRange5) \n",
    "vcf <- readVcf(vcfFile, genome = \"hg19\", param = vcf.param)\n",
    "\n",
    "names(rowRanges(vcf))\n",
    "\n",
    "as.character(unlist(ref(vcf)))\n",
    "as.character(unlist(alt(vcf)))\n",
    "\n",
    "unlist(geno(vcf))\n",
    "\n",
    "geno(vcf)$GT[1]\n",
    "geno(vcf)$DP[1]\n",
    "geno(vcf)$ADALL[1] # or\n",
    "unlist(geno(vcf)$ADALL)\n",
    "geno(vcf)$PS[1]\n"
   ]
  }
 ],
 "metadata": {
  "kernelspec": {
   "display_name": "R",
   "language": "R",
   "name": "ir"
  },
  "language_info": {
   "codemirror_mode": "r",
   "file_extension": ".r",
   "mimetype": "text/x-r-source",
   "name": "R",
   "pygments_lexer": "r",
   "version": "4.1.3"
  }
 },
 "nbformat": 4,
 "nbformat_minor": 5
}
